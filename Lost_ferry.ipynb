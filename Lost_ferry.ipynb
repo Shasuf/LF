{
  "nbformat": 4,
  "nbformat_minor": 0,
  "metadata": {
    "colab": {
      "provenance": []
    },
    "kernelspec": {
      "name": "python3",
      "display_name": "Python 3"
    },
    "language_info": {
      "name": "python"
    }
  },
  "cells": [
    {
      "cell_type": "code",
      "execution_count": 1,
      "metadata": {
        "id": "pbuARqzOfJle"
      },
      "outputs": [],
      "source": [
        "from google.colab import drive\n",
        "import pandas as pd\n"
      ]
    },
    {
      "cell_type": "code",
      "source": [
        "drive.mount('/content/drive')\n"
      ],
      "metadata": {
        "colab": {
          "base_uri": "https://localhost:8080/"
        },
        "id": "L3ZSDpVDhV3O",
        "outputId": "bede57e5-6f32-46b9-b016-90067de533e6"
      },
      "execution_count": 2,
      "outputs": [
        {
          "output_type": "stream",
          "name": "stdout",
          "text": [
            "Mounted at /content/drive\n"
          ]
        }
      ]
    },
    {
      "cell_type": "code",
      "source": [
        "# Load the dataset into a pandas dataframe\n",
        "df = pd.read_csv('/content/drive/MyDrive/prices-split-adjusted.csv', parse_dates=['date'])"
      ],
      "metadata": {
        "id": "11sN_8KbhiMg"
      },
      "execution_count": 3,
      "outputs": []
    },
    {
      "cell_type": "code",
      "source": [
        "# Find the first and last date in the dataset\n",
        "first_date = df['date'].min()\n",
        "last_date = df['date'].max()\n"
      ],
      "metadata": {
        "id": "iAh9cVJ4hrEs"
      },
      "execution_count": 4,
      "outputs": []
    },
    {
      "cell_type": "code",
      "source": [
        "print(first_date,last_date)"
      ],
      "metadata": {
        "colab": {
          "base_uri": "https://localhost:8080/"
        },
        "id": "DW93Ha2Nhtbd",
        "outputId": "0383f7a8-5c6f-47fe-ca81-c085b86e26dd"
      },
      "execution_count": 6,
      "outputs": [
        {
          "output_type": "stream",
          "name": "stdout",
          "text": [
            "2010-01-04 00:00:00 2016-12-30 00:00:00\n"
          ]
        }
      ]
    },
    {
      "cell_type": "code",
      "source": [
        "# Filter the dataframe to only include data between the first and last date\n",
        "df_filtered = df[df['date'].between(first_date, last_date)]"
      ],
      "metadata": {
        "id": "rRiGj1BuhzpL"
      },
      "execution_count": 7,
      "outputs": []
    },
    {
      "cell_type": "code",
      "source": [
        "print(df_filtered)"
      ],
      "metadata": {
        "colab": {
          "base_uri": "https://localhost:8080/"
        },
        "id": "53UXr6ash3cY",
        "outputId": "b513bf07-0d68-4d90-8ef3-c4dcc63af4e5"
      },
      "execution_count": 8,
      "outputs": [
        {
          "output_type": "stream",
          "name": "stdout",
          "text": [
            "             date symbol        open       close         low        high  \\\n",
            "0      2016-01-05   WLTW  123.430000  125.839996  122.309998  126.250000   \n",
            "1      2016-01-06   WLTW  125.239998  119.980003  119.940002  125.540001   \n",
            "2      2016-01-07   WLTW  116.379997  114.949997  114.930000  119.739998   \n",
            "3      2016-01-08   WLTW  115.480003  116.620003  113.500000  117.440002   \n",
            "4      2016-01-11   WLTW  117.010002  114.970001  114.089996  117.330002   \n",
            "...           ...    ...         ...         ...         ...         ...   \n",
            "851259 2016-12-30    ZBH  103.309998  103.199997  102.849998  103.930000   \n",
            "851260 2016-12-30   ZION   43.070000   43.040001   42.689999   43.310001   \n",
            "851261 2016-12-30    ZTS   53.639999   53.529999   53.270000   53.740002   \n",
            "851262 2016-12-30    AIV   44.730000   45.450001   44.410000   45.590000   \n",
            "851263 2016-12-30    FTV   54.200001   53.630001   53.389999   54.480000   \n",
            "\n",
            "           volume  \n",
            "0       2163600.0  \n",
            "1       2386400.0  \n",
            "2       2489500.0  \n",
            "3       2006300.0  \n",
            "4       1408600.0  \n",
            "...           ...  \n",
            "851259   973800.0  \n",
            "851260  1938100.0  \n",
            "851261  1701200.0  \n",
            "851262  1380900.0  \n",
            "851263   705100.0  \n",
            "\n",
            "[851264 rows x 7 columns]\n"
          ]
        }
      ]
    },
    {
      "cell_type": "code",
      "source": [
        "# Calculate the percentage increase for each stock\n",
        "df_filtered['percent_increase'] = (df_filtered['close'] - df_filtered['open']) / df_filtered['open'] * 100"
      ],
      "metadata": {
        "id": "WfNdYzlgh7La"
      },
      "execution_count": 9,
      "outputs": []
    },
    {
      "cell_type": "code",
      "source": [
        "print(df_filtered['percent_increase'])"
      ],
      "metadata": {
        "colab": {
          "base_uri": "https://localhost:8080/"
        },
        "id": "gYv0y-r0iAKL",
        "outputId": "95dfeb08-ae2b-47d0-8185-5a686413c555"
      },
      "execution_count": 10,
      "outputs": [
        {
          "output_type": "stream",
          "name": "stdout",
          "text": [
            "0         1.952520\n",
            "1        -4.199932\n",
            "2        -1.228733\n",
            "3         0.987184\n",
            "4        -1.743442\n",
            "            ...   \n",
            "851259   -0.106477\n",
            "851260   -0.069652\n",
            "851261   -0.205071\n",
            "851262    1.609660\n",
            "851263   -1.051660\n",
            "Name: percent_increase, Length: 851264, dtype: float64\n"
          ]
        }
      ]
    },
    {
      "cell_type": "code",
      "source": [
        "# Sort the dataframe by percent_increase in descending order\n",
        "df_sorted = df_filtered.sort_values(by='percent_increase', ascending=False)\n"
      ],
      "metadata": {
        "id": "hRSUALhliFCa"
      },
      "execution_count": 11,
      "outputs": []
    },
    {
      "cell_type": "code",
      "source": [
        "print(df_sorted )"
      ],
      "metadata": {
        "colab": {
          "base_uri": "https://localhost:8080/"
        },
        "id": "xhHcgYkZiIJG",
        "outputId": "0b027d20-5069-4c89-954c-ef13ec21f122"
      },
      "execution_count": 12,
      "outputs": [
        {
          "output_type": "stream",
          "name": "stdout",
          "text": [
            "             date symbol       open      close        low       high  \\\n",
            "386436 2013-04-09   FSLR  27.139999  39.349998  26.760000  41.000000   \n",
            "729860 2016-01-14    WMB  13.420000  18.290001  13.240000  18.440001   \n",
            "745435 2016-03-02    CHK   2.620000   3.400000   2.600000   3.750000   \n",
            "796037 2016-07-26   LLTC  49.000000  62.490002  48.709999  64.419998   \n",
            "745934 2016-03-03    CHK   3.370000   4.270000   3.320000   4.720000   \n",
            "...           ...    ...        ...        ...        ...        ...   \n",
            "728059 2016-01-11    FCX   5.400000   4.310000   4.230000   5.420000   \n",
            "737451 2016-02-08    CHK   2.560000   2.040000   1.500000   2.590000   \n",
            "649598 2015-05-27   KORS  60.590000  45.930000  45.880001  60.590000   \n",
            "737844 2016-02-08    WMB  14.930000  11.160000  10.220000  15.000000   \n",
            "214919 2011-10-25   FSLR  58.110001  43.270000  42.500000  58.610001   \n",
            "\n",
            "             volume  percent_increase  \n",
            "386436   40171200.0         44.988944  \n",
            "729860   42552100.0         36.289128  \n",
            "745435   76288000.0         29.770992  \n",
            "796037    8862100.0         27.530616  \n",
            "745934  138475400.0         26.706231  \n",
            "...             ...               ...  \n",
            "728059  117668200.0        -20.185185  \n",
            "737451  121984600.0        -20.312500  \n",
            "649598   69237400.0        -24.195412  \n",
            "737844   62368000.0        -25.251172  \n",
            "214919   23572600.0        -25.537774  \n",
            "\n",
            "[851264 rows x 8 columns]\n"
          ]
        }
      ]
    },
    {
      "cell_type": "code",
      "source": [
        "# Print the top 10 performing stocks\n",
        "print(df_sorted.head(10))"
      ],
      "metadata": {
        "colab": {
          "base_uri": "https://localhost:8080/"
        },
        "id": "G5eK-pOaiLdG",
        "outputId": "d94b4947-0e43-45ef-a873-9e9fffe76fab"
      },
      "execution_count": 13,
      "outputs": [
        {
          "output_type": "stream",
          "name": "stdout",
          "text": [
            "             date symbol       open      close        low       high  \\\n",
            "386436 2013-04-09   FSLR  27.139999  39.349998  26.760000  41.000000   \n",
            "729860 2016-01-14    WMB  13.420000  18.290001  13.240000  18.440001   \n",
            "745435 2016-03-02    CHK   2.620000   3.400000   2.600000   3.750000   \n",
            "796037 2016-07-26   LLTC  49.000000  62.490002  48.709999  64.419998   \n",
            "745934 2016-03-03    CHK   3.370000   4.270000   3.320000   4.720000   \n",
            "658705 2015-06-22    WMB  48.340000  60.860001  48.340000  61.380001   \n",
            "759407 2016-04-12    CHK   4.840000   6.050000   4.830000   6.150000   \n",
            "222559 2011-11-16     MU   5.450000   6.740000   5.450000   6.840000   \n",
            "746268 2016-03-03    SWN   5.990000   7.340000   5.980000   7.640000   \n",
            "731298 2016-01-20    SWN   6.060000   7.380000   5.900000   7.520000   \n",
            "\n",
            "             volume  percent_increase  \n",
            "386436   40171200.0         44.988944  \n",
            "729860   42552100.0         36.289128  \n",
            "745435   76288000.0         29.770992  \n",
            "796037    8862100.0         27.530616  \n",
            "745934  138475400.0         26.706231  \n",
            "658705  101131000.0         25.899878  \n",
            "759407  183964100.0         25.000000  \n",
            "222559   72164600.0         23.669725  \n",
            "746268   43384900.0         22.537563  \n",
            "731298   22418600.0         21.782178  \n"
          ]
        }
      ]
    }
  ]
}