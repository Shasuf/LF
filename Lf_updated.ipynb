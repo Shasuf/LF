{
  "nbformat": 4,
  "nbformat_minor": 0,
  "metadata": {
    "colab": {
      "provenance": []
    },
    "kernelspec": {
      "name": "python3",
      "display_name": "Python 3"
    },
    "language_info": {
      "name": "python"
    }
  },
  "cells": [
    {
      "cell_type": "code",
      "execution_count": 1,
      "metadata": {
        "id": "pbuARqzOfJle"
      },
      "outputs": [],
      "source": [
        "from google.colab import drive\n",
        "import pandas as pd\n"
      ]
    },
    {
      "cell_type": "code",
      "source": [
        "drive.mount('/content/drive')\n"
      ],
      "metadata": {
        "colab": {
          "base_uri": "https://localhost:8080/"
        },
        "id": "L3ZSDpVDhV3O",
        "outputId": "2bfbb794-b44c-4033-ccf8-df02ccef4521"
      },
      "execution_count": 2,
      "outputs": [
        {
          "output_type": "stream",
          "name": "stdout",
          "text": [
            "Drive already mounted at /content/drive; to attempt to forcibly remount, call drive.mount(\"/content/drive\", force_remount=True).\n"
          ]
        }
      ]
    },
    {
      "cell_type": "code",
      "source": [
        "# Load prices.csv into a pandas dataframe\n",
        "prices_df = pd.read_csv('/content/drive/MyDrive/archive/prices.csv')"
      ],
      "metadata": {
        "id": "Rl-emOftHVyC"
      },
      "execution_count": 3,
      "outputs": []
    },
    {
      "cell_type": "code",
      "source": [
        "# Load prices-split-adjusted.csv into a pandas dataframe\n",
        "df = pd.read_csv('/content/drive/MyDrive/prices-split-adjusted.csv')"
      ],
      "metadata": {
        "id": "QIwwYQAzHjNP"
      },
      "execution_count": 14,
      "outputs": []
    },
    {
      "cell_type": "code",
      "source": [
        "# Load securities.csv into a pandas dataframe\n",
        "securities_df = pd.read_csv('/content/drive/MyDrive/archive/securities.csv')\n"
      ],
      "metadata": {
        "id": "Jw1YcMMnIGlI"
      },
      "execution_count": 5,
      "outputs": []
    },
    {
      "cell_type": "code",
      "source": [
        "# Load fundamentals.csv into a pandas dataframe\n",
        "fundamentals_df = pd.read_csv('/content/drive/MyDrive/archive/fundamentals.csv')"
      ],
      "metadata": {
        "id": "JYX787eTINTn"
      },
      "execution_count": 6,
      "outputs": []
    },
    {
      "cell_type": "code",
      "source": [
        "# Convert the date column to datetime format\n",
        "df['date'] = pd.to_datetime(df['date'])"
      ],
      "metadata": {
        "id": "CfZemWk2IVgG"
      },
      "execution_count": 15,
      "outputs": []
    },
    {
      "cell_type": "code",
      "source": [
        "# Find the first and last dates in the dataset\n",
        "start_date = df['date'].min()\n",
        "end_date = df['date'].max()"
      ],
      "metadata": {
        "id": "Xa5efvK5IViN"
      },
      "execution_count": 16,
      "outputs": []
    },
    {
      "cell_type": "code",
      "source": [
        "# Filter the dataset to include only the rows with the first and last dates\n",
        "start_df = df[df['date'] == start_date]\n",
        "end_df = df[df['date'] == end_date]"
      ],
      "metadata": {
        "id": "lv3sxqvRLAbK"
      },
      "execution_count": 17,
      "outputs": []
    },
    {
      "cell_type": "code",
      "source": [
        "# Merge the start and end dataframes to get the prices for the first and last dates\n",
        "merged_df = pd.merge(start_df, end_df, on='symbol', suffixes=('_start', '_end'))\n"
      ],
      "metadata": {
        "id": "4yW4BMV_LDtT"
      },
      "execution_count": 18,
      "outputs": []
    },
    {
      "cell_type": "code",
      "source": [
        "# Calculate the percentage increase in price during the absolute time period\n",
        "merged_df['price_increase'] = (merged_df['close_end'] - merged_df['close_start']) / merged_df['close_start'] * 100\n"
      ],
      "metadata": {
        "id": "6ab7WG3WLF4s"
      },
      "execution_count": 19,
      "outputs": []
    },
    {
      "cell_type": "code",
      "source": [
        "# Sort the stocks based on percentage increase in descending order\n",
        "top_performing_stocks = merged_df.sort_values(by='price_increase', ascending=False)\n"
      ],
      "metadata": {
        "id": "N5zPCp_xLJci"
      },
      "execution_count": 20,
      "outputs": []
    },
    {
      "cell_type": "code",
      "source": [
        "# Display the top performing stocks\n",
        "print(top_performing_stocks[['symbol', 'price_increase']].head(10))"
      ],
      "metadata": {
        "colab": {
          "base_uri": "https://localhost:8080/"
        },
        "id": "89-3WbQeLNAJ",
        "outputId": "4685e62e-d775-4964-e019-bad529ffe1e2"
      },
      "execution_count": 21,
      "outputs": [
        {
          "output_type": "stream",
          "name": "stdout",
          "text": [
            "    symbol  price_increase\n",
            "304   NFLX     1520.418918\n",
            "357   REGN     1390.418233\n",
            "420   ULTA     1252.466854\n",
            "426    URI      951.593645\n",
            "24     ALK      917.837746\n",
            "1      AAL      878.825975\n",
            "390    STZ      851.054519\n",
            "44    AVGO      837.274627\n",
            "321   ORLY      623.142868\n",
            "287   MNST      577.291242\n"
          ]
        }
      ]
    }
  ]
}