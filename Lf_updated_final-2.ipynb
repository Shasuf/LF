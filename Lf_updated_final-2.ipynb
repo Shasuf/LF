{
  "nbformat": 4,
  "nbformat_minor": 0,
  "metadata": {
    "colab": {
      "provenance": []
    },
    "kernelspec": {
      "name": "python3",
      "display_name": "Python 3"
    },
    "language_info": {
      "name": "python"
    }
  },
  "cells": [
    {
      "cell_type": "markdown",
      "source": [],
      "metadata": {
        "id": "uwYtvQSrhdEp"
      }
    },
    {
      "cell_type": "code",
      "execution_count": 1,
      "metadata": {
        "id": "pbuARqzOfJle"
      },
      "outputs": [],
      "source": [
        "from google.colab import drive\n",
        "import pandas as pd\n"
      ]
    },
    {
      "cell_type": "code",
      "source": [
        "drive.mount('/content/drive')\n"
      ],
      "metadata": {
        "colab": {
          "base_uri": "https://localhost:8080/"
        },
        "id": "L3ZSDpVDhV3O",
        "outputId": "2bfbb794-b44c-4033-ccf8-df02ccef4521"
      },
      "execution_count": 2,
      "outputs": [
        {
          "output_type": "stream",
          "name": "stdout",
          "text": [
            "Drive already mounted at /content/drive; to attempt to forcibly remount, call drive.mount(\"/content/drive\", force_remount=True).\n"
          ]
        }
      ]
    },
    {
      "cell_type": "code",
      "source": [
        "# Load prices.csv into a pandas dataframe\n",
        "prices_df = pd.read_csv('/content/drive/MyDrive/archive/prices.csv')"
      ],
      "metadata": {
        "id": "Rl-emOftHVyC"
      },
      "execution_count": 3,
      "outputs": []
    },
    {
      "cell_type": "code",
      "source": [
        "# Load prices-split-adjusted.csv into a pandas dataframe\n",
        "df = pd.read_csv('/content/drive/MyDrive/prices-split-adjusted.csv')"
      ],
      "metadata": {
        "id": "QIwwYQAzHjNP"
      },
      "execution_count": 14,
      "outputs": []
    },
    {
      "cell_type": "code",
      "source": [
        "# Load securities.csv into a pandas dataframe\n",
        "securities_df = pd.read_csv('/content/drive/MyDrive/archive/securities.csv')\n"
      ],
      "metadata": {
        "id": "Jw1YcMMnIGlI"
      },
      "execution_count": 5,
      "outputs": []
    },
    {
      "cell_type": "code",
      "source": [
        "# Load fundamentals.csv into a pandas dataframe\n",
        "fundamentals_df = pd.read_csv('/content/drive/MyDrive/archive/fundamentals.csv')"
      ],
      "metadata": {
        "id": "JYX787eTINTn"
      },
      "execution_count": 6,
      "outputs": []
    },
    {
      "cell_type": "code",
      "source": [
        "# Convert the date column to datetime format\n",
        "df['date'] = pd.to_datetime(df['date'])\n"
      ],
      "metadata": {
        "id": "gMLlghWreU_3"
      },
      "execution_count": 22,
      "outputs": []
    },
    {
      "cell_type": "code",
      "source": [
        "# Group the dataset by symbol and find the minimum and maximum dates for each stock\n",
        "grouped_df = df.groupby('symbol').agg({'date': ['min', 'max']})\n",
        "grouped_df.columns = ['date_min', 'date_max']\n",
        "grouped_df.reset_index(inplace=True)"
      ],
      "metadata": {
        "id": "RZJRMy5EeVCa"
      },
      "execution_count": 23,
      "outputs": []
    },
    {
      "cell_type": "code",
      "source": [
        "# Find the absolute minimum and maximum dates across all stocks\n",
        "absolute_min_date = grouped_df['date_min'].min()\n",
        "absolute_max_date = grouped_df['date_max'].max()"
      ],
      "metadata": {
        "id": "8hjWQRcAfJM9"
      },
      "execution_count": 28,
      "outputs": []
    },
    {
      "cell_type": "code",
      "source": [
        "# Filter the dataset to include only the rows with the minimum and maximum dates for each stock\n",
        "merged_df = pd.merge(df, grouped_df, on='symbol')\n",
        "merged_df = merged_df[(merged_df['date'] == merged_df['date_min']) | (merged_df['date'] == merged_df['date_max'])]"
      ],
      "metadata": {
        "id": "BmJPLm2rg_qZ"
      },
      "execution_count": 36,
      "outputs": []
    },
    {
      "cell_type": "code",
      "source": [
        "# Calculate the percentage increase in price during the absolute time period for each stock\n",
        "merged_df['price_increase'] = (merged_df.groupby('symbol')['close'].transform(lambda x: (x.iloc[-1] - x.iloc[0]) / x.iloc[0] * 100))\n"
      ],
      "metadata": {
        "id": "D3a5LF7ihBRf"
      },
      "execution_count": 37,
      "outputs": []
    },
    {
      "cell_type": "code",
      "source": [
        "# Sort the stocks based on percentage increase in descending order\n",
        "top_performing_stocks = merged_df.sort_values(by='price_increase', ascending=False)"
      ],
      "metadata": {
        "id": "6ok-ez4shEj6"
      },
      "execution_count": 38,
      "outputs": []
    },
    {
      "cell_type": "code",
      "source": [
        "# Display the top performing stocks\n",
        "print(top_performing_stocks[['symbol', 'price_increase']].drop_duplicates().head(10))\n"
      ],
      "metadata": {
        "colab": {
          "base_uri": "https://localhost:8080/"
        },
        "id": "Y2uaLRUOhHH_",
        "outputId": "89313779-47e8-42a3-d79a-52b4e2aa4306"
      },
      "execution_count": 39,
      "outputs": [
        {
          "output_type": "stream",
          "name": "stdout",
          "text": [
            "       symbol  price_increase\n",
            "535899   NFLX     1520.418918\n",
            "629285   REGN     1390.418233\n",
            "742052   ULTA     1252.466854\n",
            "750863    URI      951.593645\n",
            "42539     ALK      917.837746\n",
            "2013      AAL      878.825975\n",
            "689192    STZ      851.054519\n",
            "79540    AVGO      837.274627\n",
            "824865   CHTR      722.628609\n",
            "567614   ORLY      623.142868\n"
          ]
        }
      ]
    }
  ]
}